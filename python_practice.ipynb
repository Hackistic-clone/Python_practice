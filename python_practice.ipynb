{
 "cells": [
  {
   "cell_type": "markdown",
   "metadata": {},
   "source": [
    "Write a Python program to get a single string from two given strings, separated by a space and swap the first two characters of each string.\n",
    "\n",
    "\tinput  : \"Test\", \"Leaf\"\n",
    "\toutput : \"Lest Teaf\"\n"
   ]
  },
  {
   "cell_type": "code",
   "execution_count": 3,
   "metadata": {},
   "outputs": [
    {
     "name": "stdout",
     "output_type": "stream",
     "text": [
      "\"Test\", \"Leaf\"\n",
      "Lest Teaf\n"
     ]
    }
   ],
   "source": [
    "text = list(input())\n",
    "text_1 = text[1]\n",
    "text_2 = text[9]\n",
    "tmp=text_1\n",
    "text_1=text_2\n",
    "text_2=tmp\n",
    "print(text_1+\"est\"+\" \"+text_2+\"eaf\")"
   ]
  },
  {
   "cell_type": "markdown",
   "metadata": {},
   "source": [
    "Write a Python program to add 'ing' at the end of a given string (length should be at least 3). If the given string already ends with 'ing' then add 'ly' instead. If the string length of the given string is less than 3, leave it unchanged. Go to the editor\n",
    "\n",
    "\tinput  : 'abc'\n",
    "\toutput : 'abcing'\n",
    "\n",
    "\tinput  : 'string'\n",
    "\toutput : 'stringly'"
   ]
  },
  {
   "cell_type": "code",
   "execution_count": 4,
   "metadata": {},
   "outputs": [
    {
     "name": "stdout",
     "output_type": "stream",
     "text": [
      "abc\n",
      "abcing\n"
     ]
    }
   ],
   "source": [
    "text_3= input()\n",
    "if(len(text_3)<=3):\n",
    "    print(text_3+\"ing\")\n",
    "elif(text_3.endswith(\"ing\")):\n",
    "    print(text_3+\"ly\")\n",
    "else:\n",
    "    print(text_3)"
   ]
  },
  {
   "cell_type": "markdown",
   "metadata": {},
   "source": [
    "Allow user to input a sentence. Create a List of Words in sentence. Create another list that would give length of corresponding word in a list.\n",
    "\n",
    "input  : 'Python is a easy language'\n",
    "output : List:   [\"Python\", \"is\", \"a\", \"easy\", \"language\"] \n",
    "         Length: [6, 2, 1, 4, 8]    "
   ]
  },
  {
   "cell_type": "code",
   "execution_count": 4,
   "metadata": {},
   "outputs": [
    {
     "name": "stdout",
     "output_type": "stream",
     "text": [
      "List:  ['python', 'is', 'a', 'easy', 'language']\n",
      "Length:  [6, 2, 1, 4, 0]\n"
     ]
    }
   ],
   "source": [
    "text_4='python is a easy language'\n",
    "print(\"List: \",text_4.split(\" \"))\n",
    "length= [len(text_4[1:7]),len(text_4[11:13]),len(text_4[17]),len(text_4[21:25]),len(text_4[28:])]\n",
    "print(\"Length: \",length)"
   ]
  },
  {
   "cell_type": "markdown",
   "metadata": {},
   "source": [
    "Write a program to find the count of upper, lower, digit and other of given Sting\n",
    "\n",
    "    input  : \"'Python is a easy language compare to other language's. 03-04-2020\" "
   ]
  },
  {
   "cell_type": "code",
   "execution_count": 22,
   "metadata": {},
   "outputs": [
    {
     "name": "stdout",
     "output_type": "stream",
     "text": [
      "'Python is a easy language compare to other language's. 03-04-2020\n",
      "upper case letter:  1\n",
      "lower case letter:  43\n",
      "digit  8\n",
      "Special character 14\n"
     ]
    }
   ],
   "source": [
    "text_5=input()\n",
    "upper=0\n",
    "lower=0\n",
    "digit=0\n",
    "special=0\n",
    "for i in text_5:\n",
    "    if(i.isupper()):\n",
    "        upper +=1\n",
    "    elif(i.islower()):\n",
    "        lower += 1\n",
    "    elif(i.isdigit()):\n",
    "        digit +=1\n",
    "    else:\n",
    "        special +=1\n",
    "print('upper case letter: ',upper)\n",
    "print('lower case letter: ',lower)\n",
    "print('digit ',digit)\n",
    "print('Special character',special)\n",
    "\n"
   ]
  },
  {
   "cell_type": "markdown",
   "metadata": {},
   "source": [
    "Write a program which accepts a sequence of comma-separated numbers from console and generate a list and a tuple which contains every number.\n",
    "Suppose the following input is supplied to the program:\n",
    "34,67,55,33,12,98\n",
    "Then, the output should be:\n",
    "['34', '67', '55', '33', '12', '98']\n",
    "('34', '67', '55', '33', '12', '98')"
   ]
  },
  {
   "cell_type": "code",
   "execution_count": 2,
   "metadata": {},
   "outputs": [
    {
     "name": "stdout",
     "output_type": "stream",
     "text": [
      "34,67,55,33,12,98\n",
      "List ['34', '67', '55', '33', '12', '98']\n",
      "tuple ('34', '67', '55', '33', '12', '98')\n"
     ]
    }
   ],
   "source": [
    "tyt=input()\n",
    "lit= tyt.split(\",\")\n",
    "tup= tuple(lit)\n",
    "print(\"List\",lit)\n",
    "print(\"tuple\",tup)"
   ]
  },
  {
   "cell_type": "markdown",
   "metadata": {},
   "source": [
    "Define a function which can generate and print a tuple where the value are square of numbers between 1 and 20 (both included)."
   ]
  },
  {
   "cell_type": "code",
   "execution_count": 38,
   "metadata": {},
   "outputs": [
    {
     "name": "stdout",
     "output_type": "stream",
     "text": [
      "(1, 4, 9, 16, 25, 36, 49, 64, 81, 100, 121, 144, 169, 196, 225, 256, 289, 324, 361)\n"
     ]
    }
   ],
   "source": [
    "text_6 = []\n",
    "for i in range(1,20):\n",
    "    text_6.append(i**2)\n",
    "text_7=tuple(text_6)\n",
    "print(text_7)\n"
   ]
  },
  {
   "cell_type": "markdown",
   "metadata": {},
   "source": [
    "With a given tuple (1,2,3,4,5,6,7,8,9,10), write a program to print the first half values in one line    and the last half values in one line.\n",
    "\n",
    "\tinput  : (1,2,3,4,5,6,7,8,9,10, 11)\n",
    "\toutput : (1,2,3,4,5)\n",
    "\t\t (6,7,8,9,10)"
   ]
  },
  {
   "cell_type": "code",
   "execution_count": 5,
   "metadata": {},
   "outputs": [
    {
     "name": "stdout",
     "output_type": "stream",
     "text": [
      "(1, 2, 3, 4, 5) (6, 7, 8, 9, 10)\n"
     ]
    }
   ],
   "source": [
    "text_8=(1,2,3,4,5,6,7,8,9,10)\n",
    "tuple_1=text_8[:5]\n",
    "tuple_2=text_8[5:]\n",
    "print(tuple_1,tuple_2)"
   ]
  },
  {
   "cell_type": "markdown",
   "metadata": {},
   "source": [
    " Write a program which will find factors of given number and find whether the factor is even or odd."
   ]
  },
  {
   "cell_type": "code",
   "execution_count": 57,
   "metadata": {},
   "outputs": [
    {
     "name": "stdout",
     "output_type": "stream",
     "text": [
      "5\n",
      "120\n",
      "The factorail is even\n"
     ]
    }
   ],
   "source": [
    "i=input()\n",
    "factorial=1\n",
    "for i in range(1,int(i)+1):\n",
    "    factorial=factorial*i\n",
    "print(factorial)\n",
    "if(factorial%2==0):\n",
    "    print(\"The factorail is even\")\n",
    "else:\n",
    "    print('the factorial is odd')"
   ]
  },
  {
   "cell_type": "markdown",
   "metadata": {},
   "source": [
    "Write a code which accepts a sequence of words as input and prints the words in a sequence after sorting them alphabetically."
   ]
  },
  {
   "cell_type": "code",
   "execution_count": 73,
   "metadata": {},
   "outputs": [
    {
     "name": "stdout",
     "output_type": "stream",
     "text": [
      "bmw,tesla,benz,lamborgini,buggati,pagani\n",
      "['benz', 'bmw', 'buggati', 'lamborgini', 'pagani', 'tesla']\n"
     ]
    }
   ],
   "source": [
    "text_9=input()\n",
    "text_10=list(text_9.split(\",\"))\n",
    "text_10.sort()\n",
    "print(text_10)"
   ]
  },
  {
   "cell_type": "markdown",
   "metadata": {},
   "source": [
    "Write a program, which will find all the numbers between 1000 and 3000 (both included) such that each digit of a number is an even number. The numbers obtained should be printed in a comma separared sequence on a single line."
   ]
  },
  {
   "cell_type": "code",
   "execution_count": null,
   "metadata": {},
   "outputs": [],
   "source": [
    "\n",
    "        "
   ]
  },
  {
   "cell_type": "markdown",
   "metadata": {},
   "source": [
    "Please write a program which accepts a string from console and print it in reverse order."
   ]
  },
  {
   "cell_type": "code",
   "execution_count": 6,
   "metadata": {},
   "outputs": [
    {
     "name": "stdout",
     "output_type": "stream",
     "text": [
      "hello\n",
      "olleh\n"
     ]
    }
   ],
   "source": [
    "text_11 = input()[::-1]\n",
    "print(text_11)"
   ]
  },
  {
   "cell_type": "markdown",
   "metadata": {},
   "source": [
    "Write a for loop that prints all elements of a list and their position in the list. a = [4,7,3,2,5,9]"
   ]
  },
  {
   "cell_type": "code",
   "execution_count": 10,
   "metadata": {},
   "outputs": [
    {
     "name": "stdout",
     "output_type": "stream",
     "text": [
      "4\n",
      "0\n",
      "7\n",
      "1\n",
      "3\n",
      "2\n",
      "2\n",
      "3\n",
      "5\n",
      "4\n",
      "9\n",
      "5\n"
     ]
    }
   ],
   "source": [
    "a=[4,7,3,2,5,9]\n",
    "for i in a:\n",
    "    print(i)\n",
    "    print(a.index(i))"
   ]
  },
  {
   "cell_type": "markdown",
   "metadata": {},
   "source": [
    "Please write a program which accepts a string from console and print the characters that have even indexes."
   ]
  },
  {
   "cell_type": "code",
   "execution_count": 13,
   "metadata": {},
   "outputs": [
    {
     "name": "stdout",
     "output_type": "stream",
     "text": [
      "vignesh\n",
      "v\n",
      "g\n",
      "e\n",
      "h\n"
     ]
    }
   ],
   "source": [
    "text_12 = input()\n",
    "for i in text_12:\n",
    "    if(text_12.index(i)%2 ==0):\n",
    "        print(i)"
   ]
  },
  {
   "cell_type": "markdown",
   "metadata": {},
   "source": [
    " Design a code which will find the given number is Palindrome number or not."
   ]
  },
  {
   "cell_type": "code",
   "execution_count": 20,
   "metadata": {},
   "outputs": [
    {
     "name": "stdout",
     "output_type": "stream",
     "text": [
      "12321\n",
      "The number is a palindrome\n"
     ]
    }
   ],
   "source": [
    "n=int(input())\n",
    "temp=n\n",
    "rev=0\n",
    "while(n>0):\n",
    "    dig=n%10\n",
    "    rev=rev*10+dig\n",
    "    n=n//10\n",
    "if(temp==rev):\n",
    "    print(\"The number is a palindrome\")\n",
    "else:\n",
    "    print(\"The number isn't a palindrome\")"
   ]
  },
  {
   "cell_type": "markdown",
   "metadata": {},
   "source": [
    "Write a program that accepts a sentence and calculate the number of letters and digits."
   ]
  },
  {
   "cell_type": "code",
   "execution_count": 30,
   "metadata": {},
   "outputs": [
    {
     "name": "stdout",
     "output_type": "stream",
     "text": [
      "Python is a easy language compare to other language's. 03-04-2020\n",
      "number of letters are : 44\n",
      "number of digits are : 8\n"
     ]
    }
   ],
   "source": [
    "text_13 = input()\n",
    "alpha=digit=0\n",
    "for i in text_13:\n",
    "    if(i.isalpha()):\n",
    "        alpha += 1\n",
    "    elif(i.isdigit()):\n",
    "        digit += 1\n",
    "    else:\n",
    "        pass\n",
    "print(\"number of letters are :\",alpha)\n",
    "print(\"number of digits are :\",digit)\n"
   ]
  },
  {
   "cell_type": "code",
   "execution_count": 2,
   "metadata": {},
   "outputs": [
    {
     "name": "stdout",
     "output_type": "stream",
     "text": [
      "Hydra@1903\n",
      "Your pssword is strong\n"
     ]
    }
   ],
   "source": [
    "\n",
    "import re\n",
    "password =input()\n",
    "if len(password) not in range(6,13):\n",
    "    print(\"the password must be in range\")\n",
    "elif not re.search('[a-z]', password):\n",
    "    print(\"the password must contain atleast 1 lower case\")\n",
    "elif not re.search('[A-Z]', password):\n",
    "    print(\"the password must contain atleast 1 Upper case\")\n",
    "elif not re.search('[0-9]', password):\n",
    "    print(\"the password must contain atleast 1 number\")\n",
    "elif not re.search('[_@$]', password):\n",
    "    print(\"the password must contain atleast 1 special character\")\n",
    "else:\n",
    "    print(\"Your pssword is strong\")\n"
   ]
  },
  {
   "cell_type": "code",
   "execution_count": null,
   "metadata": {},
   "outputs": [],
   "source": []
  },
  {
   "cell_type": "code",
   "execution_count": null,
   "metadata": {},
   "outputs": [],
   "source": []
  }
 ],
 "metadata": {
  "kernelspec": {
   "display_name": "Python 3",
   "language": "python",
   "name": "python3"
  },
  "language_info": {
   "codemirror_mode": {
    "name": "ipython",
    "version": 3
   },
   "file_extension": ".py",
   "mimetype": "text/x-python",
   "name": "python",
   "nbconvert_exporter": "python",
   "pygments_lexer": "ipython3",
   "version": "3.7.6"
  }
 },
 "nbformat": 4,
 "nbformat_minor": 4
}
